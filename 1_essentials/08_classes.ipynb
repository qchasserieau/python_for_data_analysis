{
 "cells": [
  {
   "cell_type": "markdown",
   "metadata": {},
   "source": [
    "# Classes\n",
    "En Python, tout est objet. Les variables, listes, dictionnaires, fonctions, etc. Tout.\n",
    "\n",
    "Et vous pouverz définir des objets personnalisés: la classe !\n",
    "\n",
    "En fait, vous faites d'abord le plan de construction de votre objet: on appelle cela une classe.\n",
    "\n",
    "Et lorsque vous instanciez une classe, vous créez un objet.\n",
    "\n",
    "Les classes se déclarent ainsi:\n",
    "```python\n",
    "class ClassName:\n",
    "    methods (functions)```\n"
   ]
  },
  {
   "cell_type": "code",
   "execution_count": 1,
   "metadata": {},
   "outputs": [
    {
     "name": "stdout",
     "output_type": "stream",
     "text": [
      "Help on class FirstClass in module __main__:\n",
      "\n",
      "class FirstClass(builtins.object)\n",
      " |  This is an empty class\n",
      " |  \n",
      " |  Data descriptors defined here:\n",
      " |  \n",
      " |  __dict__\n",
      " |      dictionary for instance variables (if defined)\n",
      " |  \n",
      " |  __weakref__\n",
      " |      list of weak references to the object (if defined)\n",
      "\n"
     ]
    }
   ],
   "source": [
    "class FirstClass:\n",
    "    \"This is an empty class\"\n",
    "    pass\n",
    "help(FirstClass)"
   ]
  },
  {
   "cell_type": "code",
   "execution_count": 2,
   "metadata": {},
   "outputs": [
    {
     "data": {
      "text/plain": [
       "__main__.FirstClass"
      ]
     },
     "execution_count": 2,
     "metadata": {},
     "output_type": "execute_result"
    }
   ],
   "source": [
    "test = FirstClass()\n",
    "type(test)"
   ]
  },
  {
   "cell_type": "markdown",
   "metadata": {},
   "source": [
    "Les classes peuvent contenir de la donnée. On lui donne des attributs"
   ]
  },
  {
   "cell_type": "code",
   "execution_count": 1,
   "metadata": {},
   "outputs": [
    {
     "data": {
      "text/plain": [
       "1"
      ]
     },
     "execution_count": 1,
     "metadata": {},
     "output_type": "execute_result"
    }
   ],
   "source": [
    "class myClass():\n",
    "    my_attr = 1\n",
    "    \n",
    "a = myClass()\n",
    "a.my_attr"
   ]
  },
  {
   "cell_type": "code",
   "execution_count": 8,
   "metadata": {},
   "outputs": [
    {
     "data": {
      "text/plain": [
       "8"
      ]
     },
     "execution_count": 8,
     "metadata": {},
     "output_type": "execute_result"
    }
   ],
   "source": [
    "class myClass():\n",
    "    my_attribute = 5\n",
    "    def add(self, x):\n",
    "        return x + self.my_attribute\n",
    "\n",
    "a = myClass()\n",
    "a.add(3)    "
   ]
  },
  {
   "cell_type": "code",
   "execution_count": null,
   "metadata": {
    "collapsed": true
   },
   "outputs": [],
   "source": []
  }
 ],
 "metadata": {
  "hide_input": false,
  "kernelspec": {
   "display_name": "Python 3",
   "language": "python",
   "name": "python3"
  },
  "language_info": {
   "codemirror_mode": {
    "name": "ipython",
    "version": 3
   },
   "file_extension": ".py",
   "mimetype": "text/x-python",
   "name": "python",
   "nbconvert_exporter": "python",
   "pygments_lexer": "ipython3",
   "version": "3.6.1"
  }
 },
 "nbformat": 4,
 "nbformat_minor": 2
}

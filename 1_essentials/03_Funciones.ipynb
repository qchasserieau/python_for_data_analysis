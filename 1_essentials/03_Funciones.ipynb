{
 "cells": [
  {
   "cell_type": "markdown",
   "metadata": {},
   "source": [
    "# Funciones\n",
    "Las funciones pueden ser funciones matemáticas o encapsulan trozos de código que queremos poder usar y llamar facilmente."
   ]
  },
  {
   "cell_type": "markdown",
   "metadata": {},
   "source": [
    "sintaxis de una función:\n",
    "\n",
    "\n",
    "```python\n",
    "def funcname(arg1, arg2,... argN):\n",
    "    ''' Document String'''\n",
    "    statements\n",
    "    return <value>```"
   ]
  },
  {
   "cell_type": "markdown",
   "metadata": {},
   "source": [
    "Explicación :\n",
    "- se define una función \"funcname\"\n",
    "- accepta los argumentos arg1, arg2, ... argN\n",
    "- la documentación es ''' Document String '''\n",
    "- ejecuta las comandas (statements)\n",
    "- retorna un valor. Eso es opcional, si no se especifica, retorna  **None**"
   ]
  },
  {
   "cell_type": "code",
   "execution_count": 2,
   "metadata": {},
   "outputs": [
    {
     "data": {
      "text/plain": [
       "1"
      ]
     },
     "execution_count": 2,
     "metadata": {},
     "output_type": "execute_result"
    }
   ],
   "source": [
    "def test_1(x):\n",
    "    '''returns the argument'''\n",
    "    return x\n",
    "test_1(1)"
   ]
  },
  {
   "cell_type": "code",
   "execution_count": 3,
   "metadata": {},
   "outputs": [
    {
     "data": {
      "text/plain": [
       "2"
      ]
     },
     "execution_count": 3,
     "metadata": {},
     "output_type": "execute_result"
    }
   ],
   "source": [
    "def test_2(x):\n",
    "    '''doubles the argument'''\n",
    "    x = x * 2\n",
    "    return x\n",
    "test_2(1)"
   ]
  },
  {
   "cell_type": "code",
   "execution_count": 4,
   "metadata": {},
   "outputs": [
    {
     "data": {
      "text/plain": [
       "[1, 2, 1, 2]"
      ]
     },
     "execution_count": 4,
     "metadata": {},
     "output_type": "execute_result"
    }
   ],
   "source": [
    "a = [1, 2]\n",
    "test_2(a)"
   ]
  },
  {
   "cell_type": "markdown",
   "metadata": {},
   "source": [
    "Porque una docstring ?"
   ]
  },
  {
   "cell_type": "code",
   "execution_count": 5,
   "metadata": {},
   "outputs": [
    {
     "name": "stdout",
     "output_type": "stream",
     "text": [
      "Help on function test_2 in module __main__:\n",
      "\n",
      "test_2(x)\n",
      "    doubles the argument\n",
      "\n"
     ]
    }
   ],
   "source": [
    "help(test_2)"
   ]
  },
  {
   "cell_type": "code",
   "execution_count": 6,
   "metadata": {},
   "outputs": [
    {
     "data": {
      "text/plain": [
       "[1, 2]"
      ]
     },
     "execution_count": 6,
     "metadata": {},
     "output_type": "execute_result"
    }
   ],
   "source": [
    "def test_3(x):\n",
    "    x.pop()\n",
    "a = [1,2,3]\n",
    "test_3(a)\n",
    "a"
   ]
  },
  {
   "cell_type": "markdown",
   "metadata": {},
   "source": [
    "#### Ejercicio\n",
    "Escrivan una función `calculate_area_of_sphere_fom_radius`, que toma como argumento un nombre y retorna la superficie de una esfera que tiene este nombre como rayo\n",
    "\n",
    "ayuda : \n",
    "* S = 4 x pi x r²\n",
    "* pi esta en el package math de python "
   ]
  },
  {
   "cell_type": "code",
   "execution_count": null,
   "metadata": {},
   "outputs": [],
   "source": []
  },
  {
   "cell_type": "markdown",
   "metadata": {},
   "source": [
    "#### Ejercicio\n",
    "Escrivan `is_father_of_luke`,  que retorna True cuando el parametro es `\"Dark Vador\"`"
   ]
  },
  {
   "cell_type": "code",
   "execution_count": null,
   "metadata": {
    "collapsed": true
   },
   "outputs": [],
   "source": []
  },
  {
   "cell_type": "markdown",
   "metadata": {},
   "source": [
    "## Varios retornos"
   ]
  },
  {
   "cell_type": "code",
   "execution_count": 7,
   "metadata": {},
   "outputs": [
    {
     "data": {
      "text/plain": [
       "(4, 8)"
      ]
     },
     "execution_count": 7,
     "metadata": {},
     "output_type": "execute_result"
    }
   ],
   "source": [
    "def func(x):\n",
    "    return x, x*2\n",
    "func(4)"
   ]
  },
  {
   "cell_type": "markdown",
   "metadata": {},
   "source": [
    "## Argumentos predeterminados"
   ]
  },
  {
   "cell_type": "code",
   "execution_count": 24,
   "metadata": {},
   "outputs": [
    {
     "name": "stdout",
     "output_type": "stream",
     "text": [
      "1 * 1 * 0 = 0\n",
      "1 * 3 * 1 = 3\n",
      "1 * 1 * 1 = 1\n"
     ]
    },
    {
     "data": {
      "text/plain": [
       "1"
      ]
     },
     "execution_count": 24,
     "metadata": {},
     "output_type": "execute_result"
    }
   ],
   "source": [
    "def func(x, y=1, z=0):\n",
    "    print(\"{} * {} * {} = {}\".format(x, y, z, x * y * z))\n",
    "    return x * y * z\n",
    "func(1) # y y z tienen sus valores prederminados\n",
    "func(1,3,1) # damos todos los valores usando la posición\n",
    "func(1,z=1) # precisamos especificamente z"
   ]
  },
  {
   "cell_type": "markdown",
   "metadata": {},
   "source": [
    "## Variables locales (namespace)"
   ]
  },
  {
   "cell_type": "markdown",
   "metadata": {},
   "source": [
    "Las variables declaradas en las functiones se quedan en las functiones"
   ]
  },
  {
   "cell_type": "code",
   "execution_count": 29,
   "metadata": {},
   "outputs": [
    {
     "name": "stdout",
     "output_type": "stream",
     "text": [
      "dans f2: x = 2\n",
      "dans f1: x = 1\n"
     ]
    }
   ],
   "source": [
    "def f1():\n",
    "    x = 1\n",
    "    def f2():\n",
    "        x = 2\n",
    "        print(\"en f2: x = {}\".format(x))\n",
    "    f2()\n",
    "    print(\"en f1: x = {}\".format(x))\n",
    "f1()"
   ]
  },
  {
   "cell_type": "markdown",
   "metadata": {},
   "source": [
    "Salvo si se re asignan"
   ]
  },
  {
   "cell_type": "code",
   "execution_count": 30,
   "metadata": {},
   "outputs": [
    {
     "name": "stdout",
     "output_type": "stream",
     "text": [
      "dans f2: x = 1\n",
      "dans f1: x = 1\n"
     ]
    }
   ],
   "source": [
    "def f1():\n",
    "    x = 1\n",
    "    def f2():\n",
    "        print(\"dans f2: x = {}\".format(x))\n",
    "    f2()\n",
    "    print(\"dans f1: x = {}\".format(x))\n",
    "f1()"
   ]
  },
  {
   "cell_type": "markdown",
   "metadata": {},
   "source": [
    "incluso se pueden retornar functiones"
   ]
  },
  {
   "cell_type": "code",
   "execution_count": 8,
   "metadata": {},
   "outputs": [
    {
     "name": "stdout",
     "output_type": "stream",
     "text": [
      "mon message\n"
     ]
    }
   ],
   "source": [
    "def f1(text):\n",
    "    def f2():\n",
    "        print(text)\n",
    "    return f2\n",
    "fonction_a = f1('mon message')  #  f2 va a ser definida y text tomará el valor del parametro\n",
    "fonction_a()"
   ]
  },
  {
   "cell_type": "markdown",
   "metadata": {},
   "source": [
    "## Función Lambda\n",
    "Las funciones simples se pueden definir de forma temporaria, sin nombre"
   ]
  },
  {
   "cell_type": "code",
   "execution_count": 9,
   "metadata": {},
   "outputs": [
    {
     "data": {
      "text/plain": [
       "4"
      ]
     },
     "execution_count": 9,
     "metadata": {},
     "output_type": "execute_result"
    }
   ],
   "source": [
    "a = lambda x: x * 2\n",
    "a(2)"
   ]
  },
  {
   "cell_type": "markdown",
   "metadata": {},
   "source": [
    "# Uso general de las funciones\n",
    "La meta de una función es ser reutilizada\n",
    "Consecuentemente, tiene que ser indepediente de su contexto de utilización. Por ejemplo, la función siguiente nos es bien escrita pues depende de una variable externa"
   ]
  },
  {
   "cell_type": "code",
   "execution_count": 10,
   "metadata": {},
   "outputs": [
    {
     "name": "stdout",
     "output_type": "stream",
     "text": [
      "2\n",
      "3\n"
     ]
    }
   ],
   "source": [
    "x = 1\n",
    "def ajoute_1(y):\n",
    "    return y + x\n",
    "print(ajoute_1(1))\n",
    "x = 2\n",
    "print(ajoute_1(1))"
   ]
  },
  {
   "cell_type": "markdown",
   "metadata": {},
   "source": [
    "Cuando mi función depende de variables externas:\n",
    "* No puedo copiar y usar en un otro lugar\n",
    "* no la puedo importar en otro lugar (faltaria la variable externa)\n",
    "* Necesito el mismo contexto para usarla (correr ciertas celdas del notebook por ejemple)"
   ]
  },
  {
   "cell_type": "markdown",
   "metadata": {},
   "source": [
    "#### Ejercicio\n",
    "Escrivan ajoute_1 correctamente"
   ]
  },
  {
   "cell_type": "code",
   "execution_count": null,
   "metadata": {
    "collapsed": true
   },
   "outputs": [],
   "source": []
  },
  {
   "cell_type": "code",
   "execution_count": null,
   "metadata": {},
   "outputs": [],
   "source": []
  }
 ],
 "metadata": {
  "hide_input": false,
  "interpreter": {
   "hash": "4996b24100d5153f2e06c1a9119939fb39383a0784eef28bb72548c9113b3fe7"
  },
  "kernelspec": {
   "display_name": "Python 3.8.8 64-bit ('Anaconda3')",
   "language": "python",
   "name": "python3"
  },
  "language_info": {
   "codemirror_mode": {
    "name": "ipython",
    "version": 3
   },
   "file_extension": ".py",
   "mimetype": "text/x-python",
   "name": "python",
   "nbconvert_exporter": "python",
   "pygments_lexer": "ipython3",
   "version": "3.8.8"
  }
 },
 "nbformat": 4,
 "nbformat_minor": 2
}

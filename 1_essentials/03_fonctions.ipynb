{
 "cells": [
  {
   "cell_type": "markdown",
   "metadata": {},
   "source": [
    "# Fonctions\n",
    "Les fonctions peuvent représenter des fonctions mathématiques. Mais plus important, elles peuvent encapsuler des morceaux de code que l'on veut réutiliser et appeler facilement."
   ]
  },
  {
   "cell_type": "markdown",
   "metadata": {},
   "source": [
    "Voici la syntaxe typique d'une fonction:\n",
    "\n",
    "\n",
    "```python\n",
    "def funcname(arg1, arg2,... argN):\n",
    "    ''' Document String'''\n",
    "    statements\n",
    "    return <value>```"
   ]
  },
  {
   "cell_type": "markdown",
   "metadata": {},
   "source": [
    "Voici comment lire les lignes ci-dessus:\n",
    "- une fonction \"funcname\" est dfinie\n",
    "- elle accepte des arguments arg1, arg2, ... argN\n",
    "- elle est documentée par ''' Document String '''\n",
    "- elle exécute des commandes (statements)\n",
    "- et elle envoie une valeur. Ceci est optionnel: si on ne le précise pas elle renvoie **None**"
   ]
  },
  {
   "cell_type": "code",
   "execution_count": 12,
   "metadata": {},
   "outputs": [
    {
     "data": {
      "text/plain": [
       "1"
      ]
     },
     "execution_count": 12,
     "metadata": {},
     "output_type": "execute_result"
    }
   ],
   "source": [
    "def test_1(x):\n",
    "    '''returns the argument'''\n",
    "    return x\n",
    "test_1(1)"
   ]
  },
  {
   "cell_type": "code",
   "execution_count": 13,
   "metadata": {},
   "outputs": [
    {
     "data": {
      "text/plain": [
       "2"
      ]
     },
     "execution_count": 13,
     "metadata": {},
     "output_type": "execute_result"
    }
   ],
   "source": [
    "def test_2(x):\n",
    "    '''doubles the argument'''\n",
    "    x = x * 2\n",
    "    return x\n",
    "test_2(1)"
   ]
  },
  {
   "cell_type": "code",
   "execution_count": 10,
   "metadata": {},
   "outputs": [
    {
     "data": {
      "text/plain": [
       "[1, 2, 1, 2]"
      ]
     },
     "execution_count": 10,
     "metadata": {},
     "output_type": "execute_result"
    }
   ],
   "source": [
    "a = [1, 2]\n",
    "test_2(a)"
   ]
  },
  {
   "cell_type": "markdown",
   "metadata": {},
   "source": [
    "Pourquoi une docstring ?"
   ]
  },
  {
   "cell_type": "code",
   "execution_count": 16,
   "metadata": {},
   "outputs": [
    {
     "name": "stdout",
     "output_type": "stream",
     "text": [
      "Help on function test_2 in module __main__:\n",
      "\n",
      "test_2(x)\n",
      "    doubles the argument\n",
      "\n"
     ]
    }
   ],
   "source": [
    "help(test_2)"
   ]
  },
  {
   "cell_type": "code",
   "execution_count": 11,
   "metadata": {},
   "outputs": [
    {
     "data": {
      "text/plain": [
       "[1, 2]"
      ]
     },
     "execution_count": 11,
     "metadata": {},
     "output_type": "execute_result"
    }
   ],
   "source": [
    "def test_3(x):\n",
    "    x.pop()\n",
    "a = [1,2,3]\n",
    "test_3(a)\n",
    "a"
   ]
  },
  {
   "cell_type": "markdown",
   "metadata": {},
   "source": [
    "#### Exercice\n",
    "Ecrivez une fonction nommée `calculate_area_of_sphere_fom_radius`, qui prend en argument un nombre et qui retourne la surface d'une sphère de rayon la valeur du nombre donné.\n",
    "\n",
    "aides: \n",
    "* la surface vaut: 4 x pi x r²\n",
    "* pi se trouve dans le package math de Python"
   ]
  },
  {
   "cell_type": "code",
   "execution_count": 2,
   "metadata": {},
   "outputs": [
    {
     "data": {
      "text/plain": [
       "3.141592653589793"
      ]
     },
     "execution_count": 2,
     "metadata": {},
     "output_type": "execute_result"
    }
   ],
   "source": []
  },
  {
   "cell_type": "markdown",
   "metadata": {},
   "source": [
    "#### Exercice\n",
    "Ecrivez une fonction nommée `is_father_of_luke`,  qui renvoie vrai si l'argument entré vaut `\"Dark Vador\"`"
   ]
  },
  {
   "cell_type": "code",
   "execution_count": null,
   "metadata": {
    "collapsed": true
   },
   "outputs": [],
   "source": []
  },
  {
   "cell_type": "markdown",
   "metadata": {},
   "source": [
    "## Plusieurs retours"
   ]
  },
  {
   "cell_type": "code",
   "execution_count": 17,
   "metadata": {},
   "outputs": [
    {
     "data": {
      "text/plain": [
       "(4, 8)"
      ]
     },
     "execution_count": 17,
     "metadata": {},
     "output_type": "execute_result"
    }
   ],
   "source": [
    "def func(x):\n",
    "    return x, x*2\n",
    "func(4)"
   ]
  },
  {
   "cell_type": "markdown",
   "metadata": {},
   "source": [
    "## Des arguments par défaut"
   ]
  },
  {
   "cell_type": "code",
   "execution_count": 24,
   "metadata": {},
   "outputs": [
    {
     "name": "stdout",
     "output_type": "stream",
     "text": [
      "1 * 1 * 0 = 0\n",
      "1 * 3 * 1 = 3\n",
      "1 * 1 * 1 = 1\n"
     ]
    },
    {
     "data": {
      "text/plain": [
       "1"
      ]
     },
     "execution_count": 24,
     "metadata": {},
     "output_type": "execute_result"
    }
   ],
   "source": [
    "def func(x, y=1, z=0):\n",
    "    print(\"{} * {} * {} = {}\".format(x, y, z, x * y * z))\n",
    "    return x * y * z\n",
    "func(1) # y et z prennent leurs valeurs par défaut\n",
    "func(1,3,1) # on donne les valeurs de y et z en utilisant la position\n",
    "func(1,z=1) # on précise spécifiquement z"
   ]
  },
  {
   "cell_type": "markdown",
   "metadata": {},
   "source": [
    "## Variables locales (namespace)"
   ]
  },
  {
   "cell_type": "markdown",
   "metadata": {},
   "source": [
    "Les variables déclarées dans les fonctions restent dans les fonctions:"
   ]
  },
  {
   "cell_type": "code",
   "execution_count": 29,
   "metadata": {},
   "outputs": [
    {
     "name": "stdout",
     "output_type": "stream",
     "text": [
      "dans f2: x = 2\n",
      "dans f1: x = 1\n"
     ]
    }
   ],
   "source": [
    "def f1():\n",
    "    x = 1\n",
    "    def f2():\n",
    "        x = 2\n",
    "        print(\"dans f2: x = {}\".format(x))\n",
    "    f2()\n",
    "    print(\"dans f1: x = {}\".format(x))\n",
    "f1()"
   ]
  },
  {
   "cell_type": "markdown",
   "metadata": {},
   "source": [
    "A moins qu'elles ne soient pas réassignées:"
   ]
  },
  {
   "cell_type": "code",
   "execution_count": 30,
   "metadata": {},
   "outputs": [
    {
     "name": "stdout",
     "output_type": "stream",
     "text": [
      "dans f2: x = 1\n",
      "dans f1: x = 1\n"
     ]
    }
   ],
   "source": [
    "def f1():\n",
    "    x = 1\n",
    "    def f2():\n",
    "        print(\"dans f2: x = {}\".format(x))\n",
    "    f2()\n",
    "    print(\"dans f1: x = {}\".format(x))\n",
    "f1()"
   ]
  },
  {
   "cell_type": "markdown",
   "metadata": {},
   "source": [
    "Du coup, on peut même renvoyer des fonctions avec leurs variables locales:"
   ]
  },
  {
   "cell_type": "code",
   "execution_count": 3,
   "metadata": {},
   "outputs": [
    {
     "name": "stdout",
     "output_type": "stream",
     "text": [
      "mon message\n"
     ]
    }
   ],
   "source": [
    "def f1(text):\n",
    "    def f2():\n",
    "        print(text)\n",
    "    return f2\n",
    "fonction_a = f1('mon message')  # la fonction f2 va être définie et prendre la valeur de texte à cette ligne\n",
    "fonction_a()"
   ]
  },
  {
   "cell_type": "markdown",
   "metadata": {},
   "source": [
    "## Fonction lambda\n",
    "On peut définir des fonctions temporaires plus rapidement. A utiliser lorsque l'on a besoin d'une fonction simples"
   ]
  },
  {
   "cell_type": "code",
   "execution_count": 35,
   "metadata": {},
   "outputs": [
    {
     "data": {
      "text/plain": [
       "4"
      ]
     },
     "execution_count": 35,
     "metadata": {},
     "output_type": "execute_result"
    }
   ],
   "source": [
    "a = lambda x: x * 2\n",
    "a(2)"
   ]
  },
  {
   "cell_type": "markdown",
   "metadata": {},
   "source": [
    "# Usage général des fonctions\n",
    "Le but d'une fonction est d'être réutilisée.\n",
    "Elle doit donc être indépendante de son contexte d'utilisation, par exemple la fonction suivante n'est pas bien écrite car elle dépend d'une variable externe."
   ]
  },
  {
   "cell_type": "code",
   "execution_count": 6,
   "metadata": {},
   "outputs": [
    {
     "name": "stdout",
     "output_type": "stream",
     "text": [
      "2\n",
      "3\n"
     ]
    }
   ],
   "source": [
    "x = 1\n",
    "def ajoute_1(y):\n",
    "    return y + x\n",
    "print(ajoute_1(1))\n",
    "x = 2\n",
    "print(ajoute_1(1))"
   ]
  },
  {
   "cell_type": "markdown",
   "metadata": {},
   "source": [
    "Si ma fonction dépend d'éléments externes, cela veut dire que:\n",
    "* je ne peux pas la copier-coller et l'utiliser ailleurs\n",
    "* je ne peux pas l'importer ailleurs\n",
    "* pour l'utiliser, il faute que je fasse bien attention à ce que le contexte soit similaire (quelles cellules de notebook j'avais fait tourner, etc\n",
    "* je peux très difficilement la débugger, car je n'ai pas défini toutes ses entrées"
   ]
  },
  {
   "cell_type": "markdown",
   "metadata": {},
   "source": [
    "#### Exercice\n",
    "Réécrivez la fonction ajoute_1 correctement "
   ]
  },
  {
   "cell_type": "code",
   "execution_count": null,
   "metadata": {
    "collapsed": true
   },
   "outputs": [],
   "source": []
  }
 ],
 "metadata": {
  "hide_input": false,
  "kernelspec": {
   "display_name": "Python 3",
   "language": "python",
   "name": "python3"
  },
  "language_info": {
   "codemirror_mode": {
    "name": "ipython",
    "version": 3
   },
   "file_extension": ".py",
   "mimetype": "text/x-python",
   "name": "python",
   "nbconvert_exporter": "python",
   "pygments_lexer": "ipython3",
   "version": "3.6.1"
  }
 },
 "nbformat": 4,
 "nbformat_minor": 2
}
